{
 "cells": [
  {
   "cell_type": "code",
   "execution_count": 61,
   "metadata": {},
   "outputs": [
    {
     "name": "stderr",
     "output_type": "stream",
     "text": [
      "C:\\Users\\Yofftop\\Anaconda3\\lib\\site-packages\\scipy\\stats\\stats.py:2253: RuntimeWarning: invalid value encountered in true_divide\n",
      "  return (a - mns) / sstd\n"
     ]
    }
   ],
   "source": [
    "from scipy.io import arff\n",
    "import numpy as np\n",
    "import pandas as pd\n",
    "from scipy import stats\n",
    "\n",
    "#import data\n",
    "data = arff.loadarff('segment.arff')\n",
    "df = pd.DataFrame(data[0])\n",
    "\n",
    "#split into x and y\n",
    "x = df.iloc[:,0:-1]\n",
    "y = df.iloc[:,-1]\n",
    "x_names = list(x)\n",
    "\n",
    "#normalizing the data\n",
    "\n",
    "#np version of data\n",
    "x_norm = stats.zscore(x)\n",
    "np.nan_to_num(x_norm, copy=False)\n",
    "\n",
    "#pd version of data\n",
    "X = pd.DataFrame(x_norm, columns=x_names) "
   ]
  },
  {
   "cell_type": "code",
   "execution_count": 63,
   "metadata": {},
   "outputs": [],
   "source": [
    "#Euclidian Distance Function\n",
    "\n",
    "def dist(centroid, data):\n",
    "    \n",
    "    equation_factor = np.sum(np.square(centroid)[:,np.newaxis,:], axis=2) - 2 * centroid.dot(data.T) + np.sum(np.square(data), axis=1)\n",
    "    euc_dist = np.sqrt(equation_factor.astype(float))\n",
    "    \n",
    "    return euc_dist"
   ]
  },
  {
   "cell_type": "code",
   "execution_count": 64,
   "metadata": {
    "scrolled": false
   },
   "outputs": [
    {
     "name": "stderr",
     "output_type": "stream",
     "text": [
      "C:\\Users\\Yofftop\\Anaconda3\\lib\\site-packages\\ipykernel_launcher.py:6: RuntimeWarning: invalid value encountered in sqrt\n",
      "  \n"
     ]
    }
   ],
   "source": [
    "import statistics as stats\n",
    "\n",
    "#Clustering\n",
    "#https://fordham.blackboard.com/bbcswebdav/pid-2740175-dt-content-rid-11634848_1/courses/33262.CISC6930L02.201910/clustering2_no_pause.pdf\n",
    "\n",
    "#Number of Clusters\n",
    "ks = [1,2,3,4,5,6,7,8,9,10,11,12] \n",
    "\n",
    "#Centroids\n",
    "centroids = [775, 1020, 200, 127, 329, 1626, 1515, 651, 658, 328, 1160, 108, 422, 88, 105, 261, 212,1941, 1724, 704, 1469, 635, 867, 1187, 445, 222, 1283, 1288, 1766, 1168, 566, 1812, 214,53, 423, 50, 705, 1284, 1356, 996, 1084, 1956, 254, 711, 1997, 1378, 827, 1875, 424,1790, 633, 208, 1670, 1517, 1902, 1476, 1716, 1709, 264, 1, 371, 758, 332, 542, 672, 483,\n",
    "65, 92, 400, 1079, 1281, 145, 1410, 664, 155, 166, 1900, 1134, 1462, 954, 1818, 1679,832, 1627, 1760, 1330, 913, 234, 1635, 1078, 640, 833, 392, 1425, 610, 1353, 1772, 908,1964, 1260, 784, 520, 1363, 544, 426, 1146, 987, 612, 1685, 1121, 1740, 287, 1383, 1923,1665, 19, 1239, 251, 309, 245, 384, 1306, 786, 1814, 7, 1203, 1068, 1493, 859, 233, 1846,\n",
    "1119, 469, 1869, 609, 385, 1182, 1949, 1622, 719, 643, 1692, 1389, 120, 1034, 805, 266,339, 826, 530, 1173, 802, 1495, 504, 1241, 427, 1555, 1597, 692, 178, 774, 1623, 1641,661, 1242, 1757, 553, 1377, 1419, 306, 1838, 211, 356, 541, 1455, 741, 583, 1464, 209,1615, 475, 1903, 555, 1046, 379, 1938, 417, 1747, 342, 1148, 1697, 1785, 298, 1485,\n",
    "945, 1097, 207, 857, 1758, 1390, 172, 587, 455, 1690, 1277, 345, 1166, 1367, 1858, 1427,1434, 953, 1992, 1140, 137, 64, 1448, 991, 1312, 1628, 167, 1042, 1887, 1825, 249, 240,524, 1098, 311, 337, 220, 1913, 727, 1659, 1321, 130, 1904, 561, 1270, 1250, 613, 152,1440, 473, 1834, 1387, 1656, 1028, 1106, 829, 1591, 1699, 1674, 947, 77, 468, 997, 611,\n",
    "1776, 123, 979, 1471, 1300, 1007, 1443, 164, 1881, 1935, 280, 442, 1588, 1033, 79, 1686,854, 257, 1460, 1380, 495, 1701, 1611, 804, 1609, 975, 1181, 582, 816, 1770, 663, 737,1810, 523, 1243, 944, 1959, 78, 675, 135, 1381, 1472]\n",
    "\n",
    "max_i = 50\n",
    "\n",
    "mean_SSE = []\n",
    "stdev_SSE = []\n",
    "\n",
    "for k in ks:\n",
    "    \n",
    "    SSE_list = []\n",
    "    p = 0\n",
    "\n",
    "    for r in range(25):\n",
    "\n",
    "        #Create Dictionary for Classifications\n",
    "        classification = {}\n",
    "\n",
    "        cent_data = np.empty((19,), int)\n",
    "\n",
    "        for i in range(k):\n",
    "            cent = centroids[i+p]\n",
    "            classification[i] = []\n",
    "            cent_data = np.append(cent_data, x_norm[cent], axis=0)\n",
    "#             print(cent)\n",
    "        p += k\n",
    "\n",
    "        cent_data = cent_data[19:] \n",
    "        cent_data = np.reshape(cent_data,(k,19))\n",
    "\n",
    "        #Distance Matrix\n",
    "        dist_trix = dist(cent_data, x_norm)\n",
    "\n",
    "        for i in range(dist_trix.shape[1]):\n",
    "\n",
    "            distances = []\n",
    "            cent_list = []\n",
    "\n",
    "            for j in range(k): \n",
    "\n",
    "                distances.append(dist_trix[j][i])\n",
    "                cent_list.append(j)\n",
    "\n",
    "            mindist_ind = distances.index(min(distances))\n",
    "            classification[cent_list[mindist_ind]].append(i)\n",
    "\n",
    "        #Rerun until converge\n",
    "        t = 1\n",
    "\n",
    "        prev_classification = {}\n",
    "#         distance = 0\n",
    "\n",
    "        while prev_classification != classification:\n",
    "\n",
    "            t += 1\n",
    "            prev_classification = classification\n",
    "\n",
    "            # Update Centroids By Taking The Mean\n",
    "            cent_mean = np.empty((19,), int)\n",
    "\n",
    "            for i in range(k):\n",
    "\n",
    "                cent_total = np.empty((19,), int)\n",
    "\n",
    "                for j in classification[i]:\n",
    "\n",
    "                    cent_total = np.append(cent_total, x_norm[j], axis=0)\n",
    "\n",
    "                cent_total = cent_total[19:] \n",
    "                cent_total = np.reshape(cent_total,(len(classification[i]),19))\n",
    "                cent_mean = np.append(cent_mean, np.mean(cent_total,axis=0))\n",
    "\n",
    "            cent_mean = cent_mean[19:] \n",
    "            cent_mean = np.reshape(cent_mean,(k,19))\n",
    "\n",
    "            #Create Dictionary for Classifications\n",
    "            classification = {}\n",
    "\n",
    "            for i in range(k):\n",
    "                classification[i] = []\n",
    "\n",
    "            #Distance Matrix\n",
    "            dist_trix = dist(cent_mean, x_norm)\n",
    "\n",
    "            for i in range(dist_trix.shape[1]):\n",
    "\n",
    "                distances = []\n",
    "                cent_list = []\n",
    "\n",
    "                for j in classification: \n",
    "\n",
    "                    distances.append(dist_trix[j][i])\n",
    "                    cent_list.append(j)\n",
    "\n",
    "                mindist_ind = distances.index(min(distances))\n",
    "                classification[cent_list[mindist_ind]].append(i)\n",
    "\n",
    "            if t > 50:\n",
    "                break  \n",
    "        \n",
    "        #SSE\n",
    "        distance = 0\n",
    "        for i in classification:\n",
    "            \n",
    "            for j in classification[i]:\n",
    "            \n",
    "                distance += (dist_trix[i][j])**2\n",
    "\n",
    "        SSE_list.append(distance)\n",
    "\n",
    "    mean_SSE.append(sum(SSE_list) / len(SSE_list))\n",
    "\n",
    "    stdev_SSE.append(stats.stdev(SSE_list))\n",
    "    \n",
    "    if k == 1:\n",
    "        d = dist_trix"
   ]
  },
  {
   "cell_type": "code",
   "execution_count": 65,
   "metadata": {},
   "outputs": [
    {
     "data": {
      "image/png": "[encoded data removed]",
      "text/plain": [
       "<Figure size 432x288 with 1 Axes>"
      ]
     },
     "metadata": {},
     "output_type": "display_data"
    },
    {
     "name": "stdout",
     "output_type": "stream",
     "text": [
      "     K      Mean SSE    low_CI_95%  upper_CI_95%\n",
      "0    1  41580.000000  41580.000000  41580.000000\n",
      "1    2  29217.663484  24990.564989  33444.761979\n",
      "2    3  24561.637880  22745.115748  26378.160012\n",
      "3    4  21167.024366  17968.039464  24366.009268\n",
      "4    5  18060.786410  14431.707263  21689.865558\n",
      "5    6  16059.293853  12680.151549  19438.436158\n",
      "6    7  14750.240782  11394.725367  18105.756197\n",
      "7    8  13166.798484  10804.983701  15528.613267\n",
      "8    9  12421.457067  10973.498025  13869.416109\n",
      "9   10  11547.345846  10238.718378  12855.973314\n",
      "10  11  11017.407892   9455.674290  12579.141493\n",
      "11  12  10549.376185   9185.085649  11913.666721\n"
     ]
    }
   ],
   "source": [
    "'''1.A - Generate a line plot of the mean SSE (µk) as a function of k. \n",
    "Include error bars that indicate the 95% conﬁdence interval: (µk −2σk to µk + 2σk).  \n",
    "'''\n",
    "\n",
    "import matplotlib.pyplot as plt\n",
    "\n",
    "low_ci = []\n",
    "high_ci = []\n",
    "for i,j in zip(mean_SSE, stdev_SSE):\n",
    "    low_ci.append(i - 2*j)\n",
    "    high_ci.append(i + 2*j)\n",
    "\n",
    "df = pd.DataFrame(columns = ['K', 'Mean SSE', 'low_CI_95%', 'upper_CI_95%'])\n",
    "df['K'] = ks\n",
    "df['Mean SSE'] = mean_SSE\n",
    "df['low_CI_95%'] = low_ci\n",
    "df['upper_CI_95%'] = high_ci\n",
    "\n",
    "# Create the plot object\n",
    "_, ax = plt.subplots()\n",
    "\n",
    "ax.plot(ks, mean_SSE, lw = 1, color = 'red', alpha = 1, label = 'Mean SSE')\n",
    "ax.fill_between(ks, low_ci, high_ci, color = 'green', alpha = 0.2, label = '95% CI')\n",
    "ax.set_title(\"Mean SSE of Dataset for Each K\")\n",
    "ax.set_xlabel(\"K\")\n",
    "ax.set_ylabel(\"Mean SSE\")\n",
    "plt.xticks(ks)\n",
    "ax.legend(loc = 'best')\n",
    "plt.show()\n",
    "\n",
    "#1.2 Produce Table\n",
    "print(df)\n",
    "\n"
   ]
  },
  {
   "cell_type": "code",
   "execution_count": 66,
   "metadata": {},
   "outputs": [
    {
     "name": "stdout",
     "output_type": "stream",
     "text": [
      "[[1.]]\n"
     ]
    }
   ],
   "source": []
  },
  {
   "cell_type": "code",
   "execution_count": 67,
   "metadata": {},
   "outputs": [
    {
     "name": "stdout",
     "output_type": "stream",
     "text": [
      "2\n"
     ]
    }
   ],
   "source": []
  },
  {
   "cell_type": "code",
   "execution_count": 68,
   "metadata": {},
   "outputs": [
    {
     "name": "stdout",
     "output_type": "stream",
     "text": [
      "[[3.91233416 3.71326665 5.99655004 ... 2.78683895 3.69699646 3.17138986]]\n"
     ]
    }
   ],
   "source": []
  },
  {
   "cell_type": "code",
   "execution_count": 69,
   "metadata": {},
   "outputs": [
    {
     "name": "stdout",
     "output_type": "stream",
     "text": [
      "3.91233416354981\n"
     ]
    }
   ],
   "source": []
  }
 ],
 "metadata": {
  "kernelspec": {
   "display_name": "Python 3",
   "language": "python",
   "name": "python3"
  },
  "language_info": {
   "codemirror_mode": {
    "name": "ipython",
    "version": 3
   },
   "file_extension": ".py",
   "mimetype": "text/x-python",
   "name": "python",
   "nbconvert_exporter": "python",
   "pygments_lexer": "ipython3",
   "version": "3.6.5"
  }
 },
 "nbformat": 4,
 "nbformat_minor": 2
}
